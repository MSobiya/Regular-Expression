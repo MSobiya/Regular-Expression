{
 "cells": [
  {
   "cell_type": "markdown",
   "metadata": {},
   "source": [
    "# Regular Expression"
   ]
  },
  {
   "cell_type": "markdown",
   "metadata": {},
   "source": [
    "## 1- re.match(pattern, string, flags=0)"
   ]
  },
  {
   "cell_type": "code",
   "execution_count": 17,
   "metadata": {},
   "outputs": [],
   "source": [
    "import re"
   ]
  },
  {
   "cell_type": "markdown",
   "metadata": {},
   "source": [
    "### Match pattern(Comp) in string(Computer)\n",
    "#### If match found than pattern will return otherwise None will return"
   ]
  },
  {
   "cell_type": "code",
   "execution_count": 93,
   "metadata": {},
   "outputs": [
    {
     "name": "stdout",
     "output_type": "stream",
     "text": [
      "X <_sre.SRE_Match object; span=(0, 4), match='Comp'>\n",
      "Y None\n",
      "Z None\n"
     ]
    }
   ],
   "source": [
    "x = re.match(\"Comp\", \"Computer\")\n",
    "print(\"X\", x)\n",
    "\n",
    "y = re.match(\"Com\", \"Laptop\")\n",
    "print(\"Y\", y)\n",
    "\n",
    "z = re.match(\"Com\", \"computer\")\n",
    "print(\"Z\", z)"
   ]
  },
  {
   "cell_type": "markdown",
   "metadata": {},
   "source": [
    "## 2 - group(num=0) or groups()"
   ]
  },
  {
   "cell_type": "markdown",
   "metadata": {},
   "source": [
    "#### group() will either return the entire match, or a specific subgroup, if requested. \n",
    "#### groups() will simply return a tuple consisting of only/all the subgroups. \n",
    "#### If there are no subgroups requested, then groups() returns an empty tuple while group() still returns the entire match."
   ]
  },
  {
   "cell_type": "markdown",
   "metadata": {},
   "source": [
    "### Return matched objects starts with alphabets"
   ]
  },
  {
   "cell_type": "code",
   "execution_count": 28,
   "metadata": {},
   "outputs": [],
   "source": [
    "l1 = [\"Computer\", \"123Comp\", \"Laptop123\"]"
   ]
  },
  {
   "cell_type": "code",
   "execution_count": 50,
   "metadata": {},
   "outputs": [],
   "source": [
    "#group() - Entire match\n",
    "l2 = []\n",
    "for i in l1:\n",
    "    x = (re.match(\"[A-Za-z]\", i))\n",
    "    if x is not None:\n",
    "        l2.append(x.group())"
   ]
  },
  {
   "cell_type": "code",
   "execution_count": 51,
   "metadata": {},
   "outputs": [
    {
     "name": "stdout",
     "output_type": "stream",
     "text": [
      "['C', 'L']\n"
     ]
    }
   ],
   "source": [
    "print(l2)"
   ]
  },
  {
   "cell_type": "code",
   "execution_count": null,
   "metadata": {},
   "outputs": [],
   "source": []
  },
  {
   "cell_type": "markdown",
   "metadata": {},
   "source": [
    "## 3 - search(pattern, string, flags=0)"
   ]
  },
  {
   "cell_type": "markdown",
   "metadata": {},
   "source": [
    "#### Search for first occurrence of RE pattern within string with optional flags ; return match object on success, None on failure"
   ]
  },
  {
   "cell_type": "code",
   "execution_count": 55,
   "metadata": {},
   "outputs": [
    {
     "name": "stdout",
     "output_type": "stream",
     "text": [
      "<_sre.SRE_Match object; span=(0, 4), match='Comp'>\n",
      "None\n"
     ]
    }
   ],
   "source": [
    "print(re.match(\"Comp\", \"Computer\")) #Comp\n",
    "print(re.match(\"Comp\", \"Laptop Computer\")) # None"
   ]
  },
  {
   "cell_type": "code",
   "execution_count": 56,
   "metadata": {},
   "outputs": [
    {
     "name": "stdout",
     "output_type": "stream",
     "text": [
      "<_sre.SRE_Match object; span=(7, 11), match='Comp'>\n"
     ]
    }
   ],
   "source": [
    "print(re.search(\"Comp\", \"Laptop Computer\"))"
   ]
  },
  {
   "cell_type": "markdown",
   "metadata": {},
   "source": [
    "## 4- Matching/Searching More than One String ( | )"
   ]
  },
  {
   "cell_type": "code",
   "execution_count": 58,
   "metadata": {},
   "outputs": [
    {
     "name": "stdout",
     "output_type": "stream",
     "text": [
      "Comp\n",
      "comp\n",
      "Comp\n",
      "comp\n"
     ]
    }
   ],
   "source": [
    "text = \"Comp|comp\"\n",
    "print(re.match(text, \"Computer\").group()) #Comp\n",
    "print(re.match(text, \"computer\").group()) #comp\n",
    "print(re.search(text, \"Laptop Computer\").group()) #Comp\n",
    "print(re.search(text, \"Laptop computer\").group()) #domp"
   ]
  },
  {
   "cell_type": "markdown",
   "metadata": {},
   "source": [
    "## 5 - findall(pattern, string[,flags])\n",
    "### findall occurence of pattern in string and return a list."
   ]
  },
  {
   "cell_type": "code",
   "execution_count": 68,
   "metadata": {},
   "outputs": [
    {
     "name": "stdout",
     "output_type": "stream",
     "text": [
      "['Comp', 'Comp']\n"
     ]
    }
   ],
   "source": [
    "x = re.findall(\"Comp\", \"Complain about Computer is needed.\")\n",
    "print(x)"
   ]
  },
  {
   "cell_type": "markdown",
   "metadata": {},
   "source": [
    "## 6 - finditer(pattern, string[,flags])\n",
    "### Same as findall, but return iterable object in which each is match object."
   ]
  },
  {
   "cell_type": "code",
   "execution_count": 70,
   "metadata": {},
   "outputs": [
    {
     "name": "stdout",
     "output_type": "stream",
     "text": [
      "<_sre.SRE_Match object; span=(0, 4), match='Comp'>\n",
      "<_sre.SRE_Match object; span=(15, 19), match='Comp'>\n"
     ]
    }
   ],
   "source": [
    "x = re.finditer(\"Comp\", \"Complain about Computer is needed.\")\n",
    "for i in x:\n",
    "    print(i)"
   ]
  },
  {
   "cell_type": "markdown",
   "metadata": {},
   "source": [
    "## 7 - split(pattern, string[,flags])\n",
    "Same as split of string with some advance features."
   ]
  },
  {
   "cell_type": "code",
   "execution_count": 76,
   "metadata": {},
   "outputs": [
    {
     "data": {
      "text/plain": [
       "['22', '02', '2000']"
      ]
     },
     "execution_count": 76,
     "metadata": {},
     "output_type": "execute_result"
    }
   ],
   "source": [
    "re.split(\"-\", \"22-02-2000\")"
   ]
  },
  {
   "cell_type": "markdown",
   "metadata": {},
   "source": [
    "## 8 - sub(pattern, repl, string, max = 0)\n",
    "#### Replace all occurrences of the RE pattern in string with repl ,substituting all occurrences unless max provided"
   ]
  },
  {
   "cell_type": "code",
   "execution_count": 87,
   "metadata": {},
   "outputs": [
    {
     "name": "stdout",
     "output_type": "stream",
     "text": [
      "Before Replacing ==> Complain about Computer is neede. Computer is a device.\n",
      "After Replacing ==> lain about uter is neede. uter is a device.\n",
      "\n",
      "\n",
      "Maximum 2 patterns are replaced.\n",
      "After Replacing ==> lain about uter is neede. Computer is a device.\n"
     ]
    }
   ],
   "source": [
    "str1 = \"Complain about Computer is neede. Computer is a device.\"\n",
    "print(\"Before Replacing ==>\", str1)\n",
    "\n",
    "str2 = re.sub(\"Comp\", '', str1)\n",
    "print(\"After Replacing ==>\", str2)\n",
    "\n",
    "str2 = re.sub(\"Comp\", '', str1, 2)\n",
    "print(\"\\n\\nMaximum 2 patterns are replaced.\\nAfter Replacing ==>\", str2)"
   ]
  },
  {
   "cell_type": "markdown",
   "metadata": {},
   "source": [
    "## 9 - Creating Character Classes ( [ ] )\n"
   ]
  },
  {
   "cell_type": "code",
   "execution_count": 95,
   "metadata": {},
   "outputs": [
    {
     "name": "stdout",
     "output_type": "stream",
     "text": [
      "a5m\n",
      "['a0m', 'a5m', 'a0s', 'a5s', 'b0m', 'b0s', 'b5m', 'b5s']\n"
     ]
    }
   ],
   "source": [
    "#first character can be a or b, second can be between 0or5 , 3rd can be between m or s\n",
    "\n",
    "x = re.match('[ab][05][ms]', 'a5m').group()\n",
    "print(x)\n",
    "\n",
    "y = re.findall('[ab][05][ms]', 'a0m a5m a0s a5s b0m b0s b5m b5s cms')\n",
    "print(y)"
   ]
  },
  {
   "cell_type": "markdown",
   "metadata": {},
   "source": [
    "\n",
    "\n",
    "# Patterns"
   ]
  },
  {
   "cell_type": "markdown",
   "metadata": {},
   "source": [
    "## =================Special Symbols======================"
   ]
  },
  {
   "cell_type": "markdown",
   "metadata": {},
   "source": [
    "## 1 - | (Or) => RE1 | RE2 | RE3"
   ]
  },
  {
   "cell_type": "code",
   "execution_count": 97,
   "metadata": {},
   "outputs": [
    {
     "name": "stdout",
     "output_type": "stream",
     "text": [
      "['Hello', 'Hi']\n"
     ]
    }
   ],
   "source": [
    "patterns = \"Hello|Hi|Bye\"\n",
    "x = re.findall(patterns, \"Hello World. Hi Dear\")\n",
    "print(x)"
   ]
  },
  {
   "cell_type": "markdown",
   "metadata": {},
   "source": [
    "## 2 - . (dot) => Match any charachter\n",
    "dot means any character. We know first character is h but dnt know second character thats why we place dot.\n",
    "Similarly in second example we dont know the letter between a and c thats why used dot. i.e \n",
    "pattern is ==> first letter is a 3rd is c second can be anything.(any character between a and c)"
   ]
  },
  {
   "cell_type": "code",
   "execution_count": 98,
   "metadata": {},
   "outputs": [
    {
     "name": "stdout",
     "output_type": "stream",
     "text": [
      "['hi', 'he', 'he', 'he']\n"
     ]
    }
   ],
   "source": [
    "print(re.findall(\"h.\", \"hi hello he she\"))"
   ]
  },
  {
   "cell_type": "code",
   "execution_count": 99,
   "metadata": {},
   "outputs": [
    {
     "name": "stdout",
     "output_type": "stream",
     "text": [
      "['abc', 'adc', 'axc']\n"
     ]
    }
   ],
   "source": [
    "print(re.findall(\"a.c\", 'abc adc axc zyc'))"
   ]
  },
  {
   "cell_type": "markdown",
   "metadata": {},
   "source": [
    "## 3 - ^ => Match start of string"
   ]
  },
  {
   "cell_type": "code",
   "execution_count": 102,
   "metadata": {},
   "outputs": [
    {
     "name": "stdout",
     "output_type": "stream",
     "text": [
      "['Hello']\n"
     ]
    }
   ],
   "source": [
    "print(re.findall(\"^Hello\", \"Hello Hi Heal\"))"
   ]
  },
  {
   "cell_type": "markdown",
   "metadata": {},
   "source": [
    "## 4 - $ => Match end of string "
   ]
  },
  {
   "cell_type": "code",
   "execution_count": 108,
   "metadata": {},
   "outputs": [
    {
     "name": "stdout",
     "output_type": "stream",
     "text": [
      "['Bye']\n"
     ]
    }
   ],
   "source": [
    "print(re.findall(\"Bye$\", \"Hello Hi ByeBye\"))"
   ]
  },
  {
   "cell_type": "markdown",
   "metadata": {},
   "source": [
    "## 5 - * => Match 0 or more occurrences of preceding RE"
   ]
  },
  {
   "cell_type": "code",
   "execution_count": 115,
   "metadata": {},
   "outputs": [
    {
     "name": "stdout",
     "output_type": "stream",
     "text": [
      "['Hello', '', 'Hii', '', '', '', '', '', 'Hello', '', 'Hi', '', '', '', '']\n"
     ]
    }
   ],
   "source": [
    "print(re.findall('[A-Za-z]*', \"Hello Hii 123 Hello Hi123\"))"
   ]
  },
  {
   "cell_type": "markdown",
   "metadata": {},
   "source": [
    "#### Get all the elements  starts with alphabets"
   ]
  },
  {
   "cell_type": "code",
   "execution_count": 125,
   "metadata": {},
   "outputs": [
    {
     "name": "stdout",
     "output_type": "stream",
     "text": [
      "['Computer', 'Laptop', '', '', 'Laptop']\n"
     ]
    }
   ],
   "source": [
    "l1 = [\"Computer\", \"Laptop\", \"123Computer\", \"123\", \"Laptop123\"]\n",
    "l2 = []\n",
    "for i in l1:\n",
    "    l2.append(re.match(\"[A-Za-z]*\", i).group())\n",
    "print(l2)"
   ]
  },
  {
   "cell_type": "markdown",
   "metadata": {},
   "source": [
    "## 6 - + => Match 1 or more occurrences of preceding RE"
   ]
  },
  {
   "cell_type": "code",
   "execution_count": 129,
   "metadata": {},
   "outputs": [
    {
     "name": "stdout",
     "output_type": "stream",
     "text": [
      "Hello123\n"
     ]
    }
   ],
   "source": [
    "print(re.match(\"[A-Za-z]\\w+\", \"Hello123\").group())\n",
    "#means the first character should be alphabetic, i.e., either A-Z or a-z, followed by at least one (+) alphanumeric character (\\w)."
   ]
  },
  {
   "cell_type": "code",
   "execution_count": 140,
   "metadata": {},
   "outputs": [
    {
     "name": "stdout",
     "output_type": "stream",
     "text": [
      "None\n"
     ]
    }
   ],
   "source": [
    "print(re.match(\"[A-Za-z]\\w+\", \"H\"))"
   ]
  },
  {
   "cell_type": "markdown",
   "metadata": {},
   "source": [
    "## 8 - ? => Match 0 or 1 occurrences of preceding RE"
   ]
  },
  {
   "cell_type": "code",
   "execution_count": 139,
   "metadata": {},
   "outputs": [
    {
     "name": "stdout",
     "output_type": "stream",
     "text": [
      "<_sre.SRE_Match object; span=(0, 4), match='Comp'>\n",
      "None\n"
     ]
    }
   ],
   "source": [
    "print(re.search('Comp?', \"Computer\"))\n",
    "print(re.search('Comp?', \"Laptop\"))"
   ]
  },
  {
   "cell_type": "markdown",
   "metadata": {},
   "source": [
    "## 9 - {N} => Match N occurrences of preceding RE"
   ]
  },
  {
   "cell_type": "code",
   "execution_count": 147,
   "metadata": {},
   "outputs": [
    {
     "name": "stdout",
     "output_type": "stream",
     "text": [
      "['12', '12', '12']\n"
     ]
    }
   ],
   "source": [
    "print(re.findall('[0-9]{2}', '1 hello123 123hello 123 '))"
   ]
  },
  {
   "cell_type": "markdown",
   "metadata": {},
   "source": [
    "## 10 - Match from M to N occurrences of preceding RE"
   ]
  },
  {
   "cell_type": "code",
   "execution_count": 150,
   "metadata": {},
   "outputs": [
    {
     "name": "stdout",
     "output_type": "stream",
     "text": [
      "['123', '123', '1234']\n"
     ]
    }
   ],
   "source": [
    "print(re.findall('[0-9]{3,4}', '12 hello123 123hello 1234'))"
   ]
  },
  {
   "cell_type": "markdown",
   "metadata": {},
   "source": [
    "# Symbols(Important)"
   ]
  },
  {
   "cell_type": "markdown",
   "metadata": {},
   "source": [
    "## 1 - \\d => Match Only Digits"
   ]
  },
  {
   "cell_type": "code",
   "execution_count": 151,
   "metadata": {},
   "outputs": [
    {
     "name": "stdout",
     "output_type": "stream",
     "text": [
      "['1', '2', '3']\n"
     ]
    }
   ],
   "source": [
    "print(re.findall(\"\\d\", \"Hello123\"))"
   ]
  },
  {
   "cell_type": "markdown",
   "metadata": {},
   "source": [
    "## 2 -\\D => Do not match any digit"
   ]
  },
  {
   "cell_type": "code",
   "execution_count": 153,
   "metadata": {},
   "outputs": [
    {
     "name": "stdout",
     "output_type": "stream",
     "text": [
      "['H', 'e', 'l', 'l', 'o']\n"
     ]
    }
   ],
   "source": [
    "print(re.findall(\"\\D\",\"Hello123\"))"
   ]
  },
  {
   "cell_type": "markdown",
   "metadata": {},
   "source": [
    "## 3 - \\w => Match only alphanumeric"
   ]
  },
  {
   "cell_type": "code",
   "execution_count": 158,
   "metadata": {},
   "outputs": [
    {
     "name": "stdout",
     "output_type": "stream",
     "text": [
      "['H', 'e', 'l', 'l', 'o', '1', '2', '3', 'H', 'e', 'l', 'l', 'o']\n"
     ]
    }
   ],
   "source": [
    "print(re.findall(\"\\w\", \"Hello123 Hello #$\"))"
   ]
  },
  {
   "cell_type": "markdown",
   "metadata": {},
   "source": [
    "## 4 - \\W => Do not match any alpha numeric character"
   ]
  },
  {
   "cell_type": "code",
   "execution_count": 157,
   "metadata": {},
   "outputs": [
    {
     "name": "stdout",
     "output_type": "stream",
     "text": [
      "[' ', ' ', '#', '$']\n"
     ]
    }
   ],
   "source": [
    "print(re.findall(\"\\W\", \"Hello123 Hello #$\"))"
   ]
  },
  {
   "cell_type": "markdown",
   "metadata": {},
   "source": [
    "## 5 - \\s => match space"
   ]
  },
  {
   "cell_type": "code",
   "execution_count": 161,
   "metadata": {},
   "outputs": [
    {
     "name": "stdout",
     "output_type": "stream",
     "text": [
      "[' ', ' ']\n"
     ]
    }
   ],
   "source": [
    "print(re.findall(\"\\s\",\"Hello123 Hello #$\"))"
   ]
  },
  {
   "cell_type": "markdown",
   "metadata": {},
   "source": [
    "## 6 - \\S =>Do not match space"
   ]
  },
  {
   "cell_type": "code",
   "execution_count": 193,
   "metadata": {},
   "outputs": [
    {
     "name": "stdout",
     "output_type": "stream",
     "text": [
      "['h', 'i', 'i', 'h', 'i', 'i']\n"
     ]
    }
   ],
   "source": [
    "print(re.findall(\"\\S\",\"hii hii\"))"
   ]
  },
  {
   "cell_type": "markdown",
   "metadata": {},
   "source": [
    "## 7 - \\b => Match any word boundary"
   ]
  },
  {
   "cell_type": "code",
   "execution_count": 197,
   "metadata": {},
   "outputs": [
    {
     "name": "stdout",
     "output_type": "stream",
     "text": [
      "['The']\n",
      "['The']\n",
      "['The']\n",
      "[]\n"
     ]
    }
   ],
   "source": [
    "print(re.findall(r\"\\bThe\\b\",\"The\"))\n",
    "print(re.findall(r\"\\bThe\\b\",\"The One\"))\n",
    "print(re.findall(r\"\\bThe\\b\",\"Only The\"))\n",
    "print(re.findall(r\"\\bThe\\b\",\"Only One\"))"
   ]
  },
  {
   "cell_type": "code",
   "execution_count": 201,
   "metadata": {},
   "outputs": [
    {
     "name": "stdout",
     "output_type": "stream",
     "text": [
      "[]\n",
      "[]\n",
      "[]\n",
      "[]\n"
     ]
    }
   ],
   "source": [
    "print(re.findall(r\"\\BThe\\B\",\"The\"))\n",
    "print(re.findall(r\"\\BThe\\B\",\"The One\"))\n",
    "print(re.findall(r\"\\BThe\\B\",\"Only The\"))\n",
    "print(re.findall(r\"\\BThe\\B\",\"Only One\"))"
   ]
  },
  {
   "cell_type": "markdown",
   "metadata": {},
   "source": [
    "## 8 -\\c => Match any special character"
   ]
  },
  {
   "cell_type": "code",
   "execution_count": 216,
   "metadata": {},
   "outputs": [
    {
     "name": "stdout",
     "output_type": "stream",
     "text": [
      "Hello\\Hii\n",
      "[]\n"
     ]
    }
   ],
   "source": [
    "s = \"Hello\\\\Hii\"\n",
    "print(s)\n",
    "print(re.findall(r\"\\c\",s))"
   ]
  },
  {
   "cell_type": "markdown",
   "metadata": {},
   "source": [
    "## 9 -((RE1)(RE2)) Using more than one Expressions Together.\n",
    "### Find string starts with D and end with r"
   ]
  },
  {
   "cell_type": "code",
   "execution_count": 238,
   "metadata": {},
   "outputs": [
    {
     "name": "stdout",
     "output_type": "stream",
     "text": [
      "Dear\n"
     ]
    }
   ],
   "source": [
    "print(re.match(r\"(^D)(\\w+)(r$)\", \"Dear\").group())"
   ]
  }
 ],
 "metadata": {
  "kernelspec": {
   "display_name": "Python 3",
   "language": "python",
   "name": "python3"
  },
  "language_info": {
   "codemirror_mode": {
    "name": "ipython",
    "version": 3
   },
   "file_extension": ".py",
   "mimetype": "text/x-python",
   "name": "python",
   "nbconvert_exporter": "python",
   "pygments_lexer": "ipython3",
   "version": "3.5.2"
  }
 },
 "nbformat": 4,
 "nbformat_minor": 2
}
